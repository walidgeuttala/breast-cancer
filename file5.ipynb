{
 "cells": [
  {
   "cell_type": "code",
   "execution_count": 1,
   "metadata": {},
   "outputs": [
    {
     "data": {
      "text/html": [
       "<div>\n",
       "<style scoped>\n",
       "    .dataframe tbody tr th:only-of-type {\n",
       "        vertical-align: middle;\n",
       "    }\n",
       "\n",
       "    .dataframe tbody tr th {\n",
       "        vertical-align: top;\n",
       "    }\n",
       "\n",
       "    .dataframe thead th {\n",
       "        text-align: right;\n",
       "    }\n",
       "</style>\n",
       "<table border=\"1\" class=\"dataframe\">\n",
       "  <thead>\n",
       "    <tr style=\"text-align: right;\">\n",
       "      <th></th>\n",
       "      <th>acousticness</th>\n",
       "      <th>danceability</th>\n",
       "      <th>energy</th>\n",
       "      <th>instrumentalness</th>\n",
       "      <th>liveness</th>\n",
       "      <th>speechiness</th>\n",
       "      <th>tempo</th>\n",
       "      <th>valence</th>\n",
       "      <th>genre_top</th>\n",
       "    </tr>\n",
       "    <tr>\n",
       "      <th>track_id</th>\n",
       "      <th></th>\n",
       "      <th></th>\n",
       "      <th></th>\n",
       "      <th></th>\n",
       "      <th></th>\n",
       "      <th></th>\n",
       "      <th></th>\n",
       "      <th></th>\n",
       "      <th></th>\n",
       "    </tr>\n",
       "  </thead>\n",
       "  <tbody>\n",
       "    <tr>\n",
       "      <td>2</td>\n",
       "      <td>0.416675</td>\n",
       "      <td>0.675894</td>\n",
       "      <td>0.634476</td>\n",
       "      <td>0.010628</td>\n",
       "      <td>0.177647</td>\n",
       "      <td>0.159310</td>\n",
       "      <td>165.922</td>\n",
       "      <td>0.576661</td>\n",
       "      <td>Hip-Hop</td>\n",
       "    </tr>\n",
       "    <tr>\n",
       "      <td>3</td>\n",
       "      <td>0.374408</td>\n",
       "      <td>0.528643</td>\n",
       "      <td>0.817461</td>\n",
       "      <td>0.001851</td>\n",
       "      <td>0.105880</td>\n",
       "      <td>0.461818</td>\n",
       "      <td>126.957</td>\n",
       "      <td>0.269240</td>\n",
       "      <td>Hip-Hop</td>\n",
       "    </tr>\n",
       "    <tr>\n",
       "      <td>5</td>\n",
       "      <td>0.043567</td>\n",
       "      <td>0.745566</td>\n",
       "      <td>0.701470</td>\n",
       "      <td>0.000697</td>\n",
       "      <td>0.373143</td>\n",
       "      <td>0.124595</td>\n",
       "      <td>100.260</td>\n",
       "      <td>0.621661</td>\n",
       "      <td>Hip-Hop</td>\n",
       "    </tr>\n",
       "    <tr>\n",
       "      <td>134</td>\n",
       "      <td>0.452217</td>\n",
       "      <td>0.513238</td>\n",
       "      <td>0.560410</td>\n",
       "      <td>0.019443</td>\n",
       "      <td>0.096567</td>\n",
       "      <td>0.525519</td>\n",
       "      <td>114.290</td>\n",
       "      <td>0.894072</td>\n",
       "      <td>Hip-Hop</td>\n",
       "    </tr>\n",
       "    <tr>\n",
       "      <td>153</td>\n",
       "      <td>0.988306</td>\n",
       "      <td>0.255661</td>\n",
       "      <td>0.979774</td>\n",
       "      <td>0.973006</td>\n",
       "      <td>0.121342</td>\n",
       "      <td>0.051740</td>\n",
       "      <td>90.241</td>\n",
       "      <td>0.034018</td>\n",
       "      <td>Rock</td>\n",
       "    </tr>\n",
       "  </tbody>\n",
       "</table>\n",
       "</div>"
      ],
      "text/plain": [
       "          acousticness  danceability    energy  instrumentalness  liveness  \\\n",
       "track_id                                                                     \n",
       "2             0.416675      0.675894  0.634476          0.010628  0.177647   \n",
       "3             0.374408      0.528643  0.817461          0.001851  0.105880   \n",
       "5             0.043567      0.745566  0.701470          0.000697  0.373143   \n",
       "134           0.452217      0.513238  0.560410          0.019443  0.096567   \n",
       "153           0.988306      0.255661  0.979774          0.973006  0.121342   \n",
       "\n",
       "          speechiness    tempo   valence genre_top  \n",
       "track_id                                            \n",
       "2            0.159310  165.922  0.576661   Hip-Hop  \n",
       "3            0.461818  126.957  0.269240   Hip-Hop  \n",
       "5            0.124595  100.260  0.621661   Hip-Hop  \n",
       "134          0.525519  114.290  0.894072   Hip-Hop  \n",
       "153          0.051740   90.241  0.034018      Rock  "
      ]
     },
     "execution_count": 1,
     "metadata": {},
     "output_type": "execute_result"
    }
   ],
   "source": [
    "import numpy as np\n",
    "import pandas as pd\n",
    "import matplotlib.pyplot as plt \n",
    "import seaborn as sns\n",
    "\n",
    "# Read in track metadata with genre labels\n",
    "tracks = pd.read_csv(r'C:\\Users\\Dell\\Desktop\\data\\RockOrPop-master\\fma-rock-vs-hiphop.csv')\n",
    "\n",
    "# Read in track metrics with the features\n",
    "echonest = pd.read_json(r'C:\\Users\\Dell\\Desktop\\data\\RockOrPop-master\\echonest-metrics.json',precise_float = True)\n",
    "\n",
    "# Merge the relevant columns of tracks and echonest_metrics\n",
    "echo_tracks = echonest.merge(tracks[['track_id','genre_top']],on = [\"track_id\"])\n",
    "echo_tracks.set_index('track_id', inplace=True)\n",
    "echo_tracks.head()"
   ]
  },
  {
   "cell_type": "code",
   "execution_count": 2,
   "metadata": {},
   "outputs": [
    {
     "name": "stdout",
     "output_type": "stream",
     "text": [
      "<class 'pandas.core.frame.DataFrame'>\n",
      "Int64Index: 4802 entries, 2 to 124722\n",
      "Data columns (total 9 columns):\n",
      "acousticness        4802 non-null float64\n",
      "danceability        4802 non-null float64\n",
      "energy              4802 non-null float64\n",
      "instrumentalness    4802 non-null float64\n",
      "liveness            4802 non-null float64\n",
      "speechiness         4802 non-null float64\n",
      "tempo               4802 non-null float64\n",
      "valence             4802 non-null float64\n",
      "genre_top           4802 non-null object\n",
      "dtypes: float64(8), object(1)\n",
      "memory usage: 375.2+ KB\n"
     ]
    }
   ],
   "source": [
    "# there is no missing values\n",
    "echo_tracks.info()"
   ]
  },
  {
   "cell_type": "code",
   "execution_count": 3,
   "metadata": {},
   "outputs": [
    {
     "data": {
      "image/png": "[encoded data removed]",
      "text/plain": [
       "<Figure size 432x288 with 1 Axes>"
      ]
     },
     "metadata": {
      "needs_background": "light"
     },
     "output_type": "display_data"
    }
   ],
   "source": [
    "#we can see our sample data is biase\n",
    "plt.bar(echo_tracks['genre_top'].unique(), echo_tracks['genre_top'].value_counts() / len(echo_tracks), color=['red', 'orange']);"
   ]
  },
  {
   "cell_type": "code",
   "execution_count": 4,
   "metadata": {},
   "outputs": [
    {
     "name": "stderr",
     "output_type": "stream",
     "text": [
      "C:\\Users\\Dell\\Anaconda3\\lib\\site-packages\\ipykernel_launcher.py:4: UserWarning: To output multiple subplots, the figure containing the passed axes is being cleared\n",
      "  after removing the cwd from sys.path.\n"
     ]
    },
    {
     "data": {
      "image/png": "[encoded data removed]",
      "text/plain": [
       "<Figure size 1440x1080 with 9 Axes>"
      ]
     },
     "metadata": {
      "needs_background": "light"
     },
     "output_type": "display_data"
    }
   ],
   "source": [
    "#some of the feat have normal dist with noise\n",
    "fig = plt.figure(figsize = (20,15))\n",
    "ax = fig.gca()\n",
    "echo_tracks.hist(ax = ax, bins=40);"
   ]
  },
  {
   "cell_type": "code",
   "execution_count": 5,
   "metadata": {},
   "outputs": [
    {
     "data": {
      "text/html": [
       "<div>\n",
       "<style scoped>\n",
       "    .dataframe tbody tr th:only-of-type {\n",
       "        vertical-align: middle;\n",
       "    }\n",
       "\n",
       "    .dataframe tbody tr th {\n",
       "        vertical-align: top;\n",
       "    }\n",
       "\n",
       "    .dataframe thead th {\n",
       "        text-align: right;\n",
       "    }\n",
       "</style>\n",
       "<table border=\"1\" class=\"dataframe\">\n",
       "  <thead>\n",
       "    <tr style=\"text-align: right;\">\n",
       "      <th></th>\n",
       "      <th>acousticness</th>\n",
       "      <th>danceability</th>\n",
       "      <th>energy</th>\n",
       "      <th>instrumentalness</th>\n",
       "      <th>liveness</th>\n",
       "      <th>speechiness</th>\n",
       "      <th>tempo</th>\n",
       "      <th>valence</th>\n",
       "    </tr>\n",
       "  </thead>\n",
       "  <tbody>\n",
       "    <tr>\n",
       "      <td>count</td>\n",
       "      <td>4.802000e+03</td>\n",
       "      <td>4802.000000</td>\n",
       "      <td>4802.000000</td>\n",
       "      <td>4802.000000</td>\n",
       "      <td>4802.000000</td>\n",
       "      <td>4802.000000</td>\n",
       "      <td>4802.000000</td>\n",
       "      <td>4802.000000</td>\n",
       "    </tr>\n",
       "    <tr>\n",
       "      <td>mean</td>\n",
       "      <td>4.870600e-01</td>\n",
       "      <td>0.436556</td>\n",
       "      <td>0.625126</td>\n",
       "      <td>0.604096</td>\n",
       "      <td>0.187997</td>\n",
       "      <td>0.104877</td>\n",
       "      <td>126.687944</td>\n",
       "      <td>0.453413</td>\n",
       "    </tr>\n",
       "    <tr>\n",
       "      <td>std</td>\n",
       "      <td>3.681396e-01</td>\n",
       "      <td>0.183502</td>\n",
       "      <td>0.244051</td>\n",
       "      <td>0.376487</td>\n",
       "      <td>0.150562</td>\n",
       "      <td>0.145934</td>\n",
       "      <td>34.002473</td>\n",
       "      <td>0.266632</td>\n",
       "    </tr>\n",
       "    <tr>\n",
       "      <td>min</td>\n",
       "      <td>9.491000e-07</td>\n",
       "      <td>0.051307</td>\n",
       "      <td>0.000279</td>\n",
       "      <td>0.000000</td>\n",
       "      <td>0.025297</td>\n",
       "      <td>0.023234</td>\n",
       "      <td>29.093000</td>\n",
       "      <td>0.014392</td>\n",
       "    </tr>\n",
       "    <tr>\n",
       "      <td>25%</td>\n",
       "      <td>8.351236e-02</td>\n",
       "      <td>0.296047</td>\n",
       "      <td>0.450757</td>\n",
       "      <td>0.164972</td>\n",
       "      <td>0.104052</td>\n",
       "      <td>0.036897</td>\n",
       "      <td>98.000750</td>\n",
       "      <td>0.224617</td>\n",
       "    </tr>\n",
       "    <tr>\n",
       "      <td>50%</td>\n",
       "      <td>5.156888e-01</td>\n",
       "      <td>0.419447</td>\n",
       "      <td>0.648374</td>\n",
       "      <td>0.808752</td>\n",
       "      <td>0.123080</td>\n",
       "      <td>0.049594</td>\n",
       "      <td>124.625500</td>\n",
       "      <td>0.446240</td>\n",
       "    </tr>\n",
       "    <tr>\n",
       "      <td>75%</td>\n",
       "      <td>8.555765e-01</td>\n",
       "      <td>0.565339</td>\n",
       "      <td>0.837016</td>\n",
       "      <td>0.915472</td>\n",
       "      <td>0.215151</td>\n",
       "      <td>0.088290</td>\n",
       "      <td>151.450000</td>\n",
       "      <td>0.666914</td>\n",
       "    </tr>\n",
       "    <tr>\n",
       "      <td>max</td>\n",
       "      <td>9.957965e-01</td>\n",
       "      <td>0.961871</td>\n",
       "      <td>0.999768</td>\n",
       "      <td>0.993134</td>\n",
       "      <td>0.971392</td>\n",
       "      <td>0.966177</td>\n",
       "      <td>250.059000</td>\n",
       "      <td>0.983649</td>\n",
       "    </tr>\n",
       "  </tbody>\n",
       "</table>\n",
       "</div>"
      ],
      "text/plain": [
       "       acousticness  danceability       energy  instrumentalness     liveness  \\\n",
       "count  4.802000e+03   4802.000000  4802.000000       4802.000000  4802.000000   \n",
       "mean   4.870600e-01      0.436556     0.625126          0.604096     0.187997   \n",
       "std    3.681396e-01      0.183502     0.244051          0.376487     0.150562   \n",
       "min    9.491000e-07      0.051307     0.000279          0.000000     0.025297   \n",
       "25%    8.351236e-02      0.296047     0.450757          0.164972     0.104052   \n",
       "50%    5.156888e-01      0.419447     0.648374          0.808752     0.123080   \n",
       "75%    8.555765e-01      0.565339     0.837016          0.915472     0.215151   \n",
       "max    9.957965e-01      0.961871     0.999768          0.993134     0.971392   \n",
       "\n",
       "       speechiness        tempo      valence  \n",
       "count  4802.000000  4802.000000  4802.000000  \n",
       "mean      0.104877   126.687944     0.453413  \n",
       "std       0.145934    34.002473     0.266632  \n",
       "min       0.023234    29.093000     0.014392  \n",
       "25%       0.036897    98.000750     0.224617  \n",
       "50%       0.049594   124.625500     0.446240  \n",
       "75%       0.088290   151.450000     0.666914  \n",
       "max       0.966177   250.059000     0.983649  "
      ]
     },
     "execution_count": 5,
     "metadata": {},
     "output_type": "execute_result"
    }
   ],
   "source": [
    "#we can see we don't have missing values\n",
    "#all feat have good range of min , max only tempo\n",
    "echo_tracks.describe()"
   ]
  },
  {
   "cell_type": "code",
   "execution_count": 6,
   "metadata": {},
   "outputs": [
    {
     "data": {
      "text/html": [
       "<div>\n",
       "<style scoped>\n",
       "    .dataframe tbody tr th:only-of-type {\n",
       "        vertical-align: middle;\n",
       "    }\n",
       "\n",
       "    .dataframe tbody tr th {\n",
       "        vertical-align: top;\n",
       "    }\n",
       "\n",
       "    .dataframe thead th {\n",
       "        text-align: right;\n",
       "    }\n",
       "</style>\n",
       "<table border=\"1\" class=\"dataframe\">\n",
       "  <thead>\n",
       "    <tr style=\"text-align: right;\">\n",
       "      <th></th>\n",
       "      <th>acousticness</th>\n",
       "      <th>danceability</th>\n",
       "      <th>energy</th>\n",
       "      <th>instrumentalness</th>\n",
       "      <th>liveness</th>\n",
       "      <th>speechiness</th>\n",
       "      <th>tempo</th>\n",
       "      <th>valence</th>\n",
       "      <th>genre_top</th>\n",
       "    </tr>\n",
       "    <tr>\n",
       "      <th>track_id</th>\n",
       "      <th></th>\n",
       "      <th></th>\n",
       "      <th></th>\n",
       "      <th></th>\n",
       "      <th></th>\n",
       "      <th></th>\n",
       "      <th></th>\n",
       "      <th></th>\n",
       "      <th></th>\n",
       "    </tr>\n",
       "  </thead>\n",
       "  <tbody>\n",
       "    <tr>\n",
       "      <td>2</td>\n",
       "      <td>0.416675</td>\n",
       "      <td>0.675894</td>\n",
       "      <td>0.634476</td>\n",
       "      <td>0.010628</td>\n",
       "      <td>0.177647</td>\n",
       "      <td>0.159310</td>\n",
       "      <td>165.922</td>\n",
       "      <td>0.576661</td>\n",
       "      <td>0</td>\n",
       "    </tr>\n",
       "    <tr>\n",
       "      <td>3</td>\n",
       "      <td>0.374408</td>\n",
       "      <td>0.528643</td>\n",
       "      <td>0.817461</td>\n",
       "      <td>0.001851</td>\n",
       "      <td>0.105880</td>\n",
       "      <td>0.461818</td>\n",
       "      <td>126.957</td>\n",
       "      <td>0.269240</td>\n",
       "      <td>0</td>\n",
       "    </tr>\n",
       "    <tr>\n",
       "      <td>5</td>\n",
       "      <td>0.043567</td>\n",
       "      <td>0.745566</td>\n",
       "      <td>0.701470</td>\n",
       "      <td>0.000697</td>\n",
       "      <td>0.373143</td>\n",
       "      <td>0.124595</td>\n",
       "      <td>100.260</td>\n",
       "      <td>0.621661</td>\n",
       "      <td>0</td>\n",
       "    </tr>\n",
       "    <tr>\n",
       "      <td>134</td>\n",
       "      <td>0.452217</td>\n",
       "      <td>0.513238</td>\n",
       "      <td>0.560410</td>\n",
       "      <td>0.019443</td>\n",
       "      <td>0.096567</td>\n",
       "      <td>0.525519</td>\n",
       "      <td>114.290</td>\n",
       "      <td>0.894072</td>\n",
       "      <td>0</td>\n",
       "    </tr>\n",
       "    <tr>\n",
       "      <td>153</td>\n",
       "      <td>0.988306</td>\n",
       "      <td>0.255661</td>\n",
       "      <td>0.979774</td>\n",
       "      <td>0.973006</td>\n",
       "      <td>0.121342</td>\n",
       "      <td>0.051740</td>\n",
       "      <td>90.241</td>\n",
       "      <td>0.034018</td>\n",
       "      <td>1</td>\n",
       "    </tr>\n",
       "  </tbody>\n",
       "</table>\n",
       "</div>"
      ],
      "text/plain": [
       "          acousticness  danceability    energy  instrumentalness  liveness  \\\n",
       "track_id                                                                     \n",
       "2             0.416675      0.675894  0.634476          0.010628  0.177647   \n",
       "3             0.374408      0.528643  0.817461          0.001851  0.105880   \n",
       "5             0.043567      0.745566  0.701470          0.000697  0.373143   \n",
       "134           0.452217      0.513238  0.560410          0.019443  0.096567   \n",
       "153           0.988306      0.255661  0.979774          0.973006  0.121342   \n",
       "\n",
       "          speechiness    tempo   valence  genre_top  \n",
       "track_id                                             \n",
       "2            0.159310  165.922  0.576661          0  \n",
       "3            0.461818  126.957  0.269240          0  \n",
       "5            0.124595  100.260  0.621661          0  \n",
       "134          0.525519  114.290  0.894072          0  \n",
       "153          0.051740   90.241  0.034018          1  "
      ]
     },
     "execution_count": 6,
     "metadata": {},
     "output_type": "execute_result"
    }
   ],
   "source": [
    "#now we try code the target columns for using it in corr \n",
    "# 0 Hip-Hop , 1 Rock\n",
    "target = echo_tracks['genre_top']\n",
    "echo_tracks['genre_top'] = echo_tracks['genre_top'].astype('category').values.codes\n",
    "echo_tracks.head()"
   ]
  },
  {
   "cell_type": "code",
   "execution_count": 7,
   "metadata": {},
   "outputs": [
    {
     "data": {
      "text/plain": [
       "genre_top           1.000000\n",
       "instrumentalness    0.326037\n",
       "energy              0.124860\n",
       "tempo               0.114571\n",
       "acousticness        0.097748\n",
       "liveness           -0.007070\n",
       "valence            -0.246701\n",
       "danceability       -0.484457\n",
       "speechiness        -0.496495\n",
       "Name: genre_top, dtype: float64"
      ]
     },
     "execution_count": 7,
     "metadata": {},
     "output_type": "execute_result"
    }
   ],
   "source": [
    "corr = echo_tracks.corr().sort_values('genre_top', ascending=False)\n",
    "corr['genre_top']\n"
   ]
  },
  {
   "cell_type": "code",
   "execution_count": 8,
   "metadata": {},
   "outputs": [
    {
     "data": {
      "text/html": [
       "<div>\n",
       "<style scoped>\n",
       "    .dataframe tbody tr th:only-of-type {\n",
       "        vertical-align: middle;\n",
       "    }\n",
       "\n",
       "    .dataframe tbody tr th {\n",
       "        vertical-align: top;\n",
       "    }\n",
       "\n",
       "    .dataframe thead th {\n",
       "        text-align: right;\n",
       "    }\n",
       "</style>\n",
       "<table border=\"1\" class=\"dataframe\">\n",
       "  <thead>\n",
       "    <tr style=\"text-align: right;\">\n",
       "      <th></th>\n",
       "      <th>acousticness</th>\n",
       "      <th>danceability</th>\n",
       "      <th>energy</th>\n",
       "      <th>instrumentalness</th>\n",
       "      <th>speechiness</th>\n",
       "      <th>tempo</th>\n",
       "      <th>valence</th>\n",
       "      <th>genre_top</th>\n",
       "    </tr>\n",
       "    <tr>\n",
       "      <th>track_id</th>\n",
       "      <th></th>\n",
       "      <th></th>\n",
       "      <th></th>\n",
       "      <th></th>\n",
       "      <th></th>\n",
       "      <th></th>\n",
       "      <th></th>\n",
       "      <th></th>\n",
       "    </tr>\n",
       "  </thead>\n",
       "  <tbody>\n",
       "    <tr>\n",
       "      <td>2</td>\n",
       "      <td>0.416675</td>\n",
       "      <td>0.675894</td>\n",
       "      <td>0.634476</td>\n",
       "      <td>0.010628</td>\n",
       "      <td>0.159310</td>\n",
       "      <td>165.922</td>\n",
       "      <td>0.576661</td>\n",
       "      <td>0</td>\n",
       "    </tr>\n",
       "    <tr>\n",
       "      <td>3</td>\n",
       "      <td>0.374408</td>\n",
       "      <td>0.528643</td>\n",
       "      <td>0.817461</td>\n",
       "      <td>0.001851</td>\n",
       "      <td>0.461818</td>\n",
       "      <td>126.957</td>\n",
       "      <td>0.269240</td>\n",
       "      <td>0</td>\n",
       "    </tr>\n",
       "    <tr>\n",
       "      <td>5</td>\n",
       "      <td>0.043567</td>\n",
       "      <td>0.745566</td>\n",
       "      <td>0.701470</td>\n",
       "      <td>0.000697</td>\n",
       "      <td>0.124595</td>\n",
       "      <td>100.260</td>\n",
       "      <td>0.621661</td>\n",
       "      <td>0</td>\n",
       "    </tr>\n",
       "    <tr>\n",
       "      <td>134</td>\n",
       "      <td>0.452217</td>\n",
       "      <td>0.513238</td>\n",
       "      <td>0.560410</td>\n",
       "      <td>0.019443</td>\n",
       "      <td>0.525519</td>\n",
       "      <td>114.290</td>\n",
       "      <td>0.894072</td>\n",
       "      <td>0</td>\n",
       "    </tr>\n",
       "    <tr>\n",
       "      <td>153</td>\n",
       "      <td>0.988306</td>\n",
       "      <td>0.255661</td>\n",
       "      <td>0.979774</td>\n",
       "      <td>0.973006</td>\n",
       "      <td>0.051740</td>\n",
       "      <td>90.241</td>\n",
       "      <td>0.034018</td>\n",
       "      <td>1</td>\n",
       "    </tr>\n",
       "  </tbody>\n",
       "</table>\n",
       "</div>"
      ],
      "text/plain": [
       "          acousticness  danceability    energy  instrumentalness  speechiness  \\\n",
       "track_id                                                                        \n",
       "2             0.416675      0.675894  0.634476          0.010628     0.159310   \n",
       "3             0.374408      0.528643  0.817461          0.001851     0.461818   \n",
       "5             0.043567      0.745566  0.701470          0.000697     0.124595   \n",
       "134           0.452217      0.513238  0.560410          0.019443     0.525519   \n",
       "153           0.988306      0.255661  0.979774          0.973006     0.051740   \n",
       "\n",
       "            tempo   valence  genre_top  \n",
       "track_id                                \n",
       "2         165.922  0.576661          0  \n",
       "3         126.957  0.269240          0  \n",
       "5         100.260  0.621661          0  \n",
       "134       114.290  0.894072          0  \n",
       "153        90.241  0.034018          1  "
      ]
     },
     "execution_count": 8,
     "metadata": {},
     "output_type": "execute_result"
    }
   ],
   "source": [
    "# we drop the bad cols and the target col\n",
    "echo_tracks.drop('liveness',axis=1,inplace=True)\n",
    "#echo_tracks['genre_top'] = target\n",
    "echo_tracks.head()"
   ]
  },
  {
   "cell_type": "code",
   "execution_count": 9,
   "metadata": {},
   "outputs": [],
   "source": [
    "from sklearn.model_selection import train_test_split\n",
    "\n",
    "X_train, X_test, Y_train, Y_test = train_test_split(echo_tracks.drop('genre_top',axis=1), echo_tracks['genre_top'], train_size=0.8, random_state=1)\n",
    "X_train, X_valid, Y_train, Y_valid = train_test_split(X_train, Y_train, train_size=0.8*0.2, random_state=1)"
   ]
  },
  {
   "cell_type": "code",
   "execution_count": 24,
   "metadata": {},
   "outputs": [
    {
     "ename": "SyntaxError",
     "evalue": "invalid syntax (<ipython-input-24-40fb80875792>, line 12)",
     "output_type": "error",
     "traceback": [
      "\u001b[1;36m  File \u001b[1;32m\"<ipython-input-24-40fb80875792>\"\u001b[1;36m, line \u001b[1;32m12\u001b[0m\n\u001b[1;33m    el typ == 'SVC':\u001b[0m\n\u001b[1;37m         ^\u001b[0m\n\u001b[1;31mSyntaxError\u001b[0m\u001b[1;31m:\u001b[0m invalid syntax\n"
     ]
    }
   ],
   "source": [
    "from sklearn.ensemble import RandomForestClassifier\n",
    "from sklearn.metrics import mean_absolute_error\n",
    "from sklearn.metrics import accuracy_score\n",
    "from sklearn.linear_model import LogisticRegression\n",
    "from sklearn.svm import SVC # \"Support vector classifier\"\n",
    "\n",
    "def score_dataset(X_train, X_valid, y_train, y_valid, typ, n_est=100, n_ita=100, C=1):\n",
    "    if typ == 'RandomForestClassifier':\n",
    "        model = RandomForestClassifier(n_estimators=n_est,max_depth=C,  class_weight={0:0.8, 1:0.2},random_state=0)\n",
    "    elif typ == 'LogisticRegression':\n",
    "        model = LogisticRegression(class_weight={0:0.8, 1:0.2},solver='liblinear',C=C, max_iter=n_ita, random_state=0)\n",
    "    el typ == 'SVC':\n",
    "        model = SVC(class_weight={0:0.8, 1:0.2},kernel='linear', C=C)\n",
    "    model.fit(X_train, y_train)\n",
    "    print(typ)\n",
    "    preds = model.predict(X_train)\n",
    "    print('\\tMAE for Train: ', mean_absolute_error(y_train, preds), '\\tACC Train : ',accuracy_score(y_train, preds))\n",
    "    preds = model.predict(X_valid)\n",
    "    print('\\tMAE for Test: ', mean_absolute_error(y_valid, preds), '\\tACC TEST : ',accuracy_score(y_valid, preds))"
   ]
  },
  {
   "cell_type": "code",
   "execution_count": 11,
   "metadata": {},
   "outputs": [
    {
     "name": "stdout",
     "output_type": "stream",
     "text": [
      "LogisticRegression\n",
      "\tMAE for Train:  0.15472312703583063 \tACC Train :  0.8452768729641694\n",
      "\tMAE for Test:  0.14409668422683608 \tACC TEST :  0.8559033157731639\n",
      "LogisticRegression\n",
      "\tMAE for Train:  0.15960912052117263 \tACC Train :  0.8403908794788274\n",
      "\tMAE for Test:  0.15897118066315463 \tACC TEST :  0.8410288193368454\n",
      "LogisticRegression\n",
      "\tMAE for Train:  0.1498371335504886 \tACC Train :  0.8501628664495114\n",
      "\tMAE for Test:  0.14967462039045554 \tACC TEST :  0.8503253796095445\n",
      "LogisticRegression\n",
      "\tMAE for Train:  0.1498371335504886 \tACC Train :  0.8501628664495114\n",
      "\tMAE for Test:  0.14874496436318563 \tACC TEST :  0.8512550356368144\n",
      "LogisticRegression\n",
      "\tMAE for Train:  0.1465798045602606 \tACC Train :  0.8534201954397395\n",
      "\tMAE for Test:  0.1471955376510691 \tACC TEST :  0.8528044623489309\n",
      "LogisticRegression\n",
      "\tMAE for Train:  0.1482084690553746 \tACC Train :  0.8517915309446255\n",
      "\tMAE for Test:  0.1465757669662225 \tACC TEST :  0.8534242330337775\n",
      "LogisticRegression\n",
      "\tMAE for Train:  0.1465798045602606 \tACC Train :  0.8534201954397395\n",
      "\tMAE for Test:  0.1465757669662225 \tACC TEST :  0.8534242330337775\n",
      "LogisticRegression\n",
      "\tMAE for Train:  0.1465798045602606 \tACC Train :  0.8534201954397395\n",
      "\tMAE for Test:  0.1465757669662225 \tACC TEST :  0.8534242330337775\n",
      "LogisticRegression\n",
      "\tMAE for Train:  0.1465798045602606 \tACC Train :  0.8534201954397395\n",
      "\tMAE for Test:  0.1465757669662225 \tACC TEST :  0.8534242330337775\n",
      "LogisticRegression\n",
      "\tMAE for Train:  0.1465798045602606 \tACC Train :  0.8534201954397395\n",
      "\tMAE for Test:  0.1465757669662225 \tACC TEST :  0.8534242330337775\n"
     ]
    }
   ],
   "source": [
    "#so we are overfitting our data  \n",
    "for i in range(10):\n",
    "    score_dataset(X_train, X_valid, Y_train, Y_valid, 'LogisticRegression',n_ita=1000,  C=3*i+0.01)"
   ]
  },
  {
   "cell_type": "code",
   "execution_count": 12,
   "metadata": {},
   "outputs": [
    {
     "name": "stdout",
     "output_type": "stream",
     "text": [
      "RandomForestClassifier\n",
      "\tMAE for Train:  0.12866449511400652 \tACC Train :  0.8713355048859935\n",
      "\tMAE for Test:  0.12333436628447475 \tACC TEST :  0.8766656337155253\n",
      "RandomForestClassifier\n",
      "\tMAE for Train:  0.11237785016286644 \tACC Train :  0.8876221498371335\n",
      "\tMAE for Test:  0.11186860861481251 \tACC TEST :  0.8881313913851875\n",
      "RandomForestClassifier\n",
      "\tMAE for Train:  0.09609120521172639 \tACC Train :  0.9039087947882736\n",
      "\tMAE for Test:  0.09730399752091726 \tACC TEST :  0.9026960024790828\n",
      "RandomForestClassifier\n",
      "\tMAE for Train:  0.06677524429967427 \tACC Train :  0.9332247557003257\n",
      "\tMAE for Test:  0.08304927176944531 \tACC TEST :  0.9169507282305547\n",
      "RandomForestClassifier\n",
      "\tMAE for Train:  0.04560260586319218 \tACC Train :  0.9543973941368078\n",
      "\tMAE for Test:  0.07747133560582585 \tACC TEST :  0.9225286643941741\n",
      "RandomForestClassifier\n",
      "\tMAE for Train:  0.024429967426710098 \tACC Train :  0.9755700325732899\n",
      "\tMAE for Test:  0.07747133560582585 \tACC TEST :  0.9225286643941741\n",
      "RandomForestClassifier\n",
      "\tMAE for Train:  0.008143322475570033 \tACC Train :  0.99185667752443\n",
      "\tMAE for Test:  0.07840099163309576 \tACC TEST :  0.9215990083669042\n",
      "RandomForestClassifier\n",
      "\tMAE for Train:  0.0016286644951140066 \tACC Train :  0.998371335504886\n",
      "\tMAE for Test:  0.07592190889370933 \tACC TEST :  0.9240780911062907\n",
      "RandomForestClassifier\n",
      "\tMAE for Train:  0.0 \tACC Train :  1.0\n",
      "\tMAE for Test:  0.07561202355128602 \tACC TEST :  0.924387976448714\n"
     ]
    }
   ],
   "source": [
    "for i in range(1,10):\n",
    "    score_dataset(X_train, X_valid, Y_train, Y_valid, 'RandomForestClassifier',n_est=100*i, C=i)"
   ]
  },
  {
   "cell_type": "code",
   "execution_count": 13,
   "metadata": {},
   "outputs": [
    {
     "name": "stdout",
     "output_type": "stream",
     "text": [
      "RandomForestClassifier\n",
      "\tMAE for Train:  0.09283387622149837 \tACC Train :  0.9071661237785016\n",
      "\tMAE for Test:  0.09637434149364735 \tACC TEST :  0.9036256585063527\n"
     ]
    }
   ],
   "source": [
    "#best model i find with RandomForestClassifier\n",
    "#it is not over fit or inder fit\n",
    "score_dataset(X_train, X_valid, Y_train, Y_valid, 'RandomForestClassifier',n_est=1000, C=3)"
   ]
  },
  {
   "cell_type": "code",
   "execution_count": 14,
   "metadata": {},
   "outputs": [
    {
     "name": "stdout",
     "output_type": "stream",
     "text": [
      "\tMAE for Train:  0.1237785016286645 \tACC Train :  0.8762214983713354\n",
      "\tMAE for Train:  0.11279826464208242 \tACC Train :  0.8872017353579176\n"
     ]
    }
   ],
   "source": [
    "from sklearn.naive_bayes import GaussianNB\n",
    "model = GaussianNB()\n",
    "model.fit(X_train, Y_train);\n",
    "\n",
    "preds = model.predict(X_train)\n",
    "print('\\tMAE for Train: ', mean_absolute_error(Y_train, preds), '\\tACC Train : ',accuracy_score(Y_train, preds))\n",
    "\n",
    "preds = model.predict(X_valid)\n",
    "print('\\tMAE for Train: ', mean_absolute_error(Y_valid, preds), '\\tACC Train : ',accuracy_score(Y_valid, preds))"
   ]
  },
  {
   "cell_type": "code",
   "execution_count": 26,
   "metadata": {},
   "outputs": [
    {
     "name": "stdout",
     "output_type": "stream",
     "text": [
      "SVC\n",
      "\tMAE for Train:  0.19218241042345277 \tACC Train :  0.8078175895765473\n",
      "\tMAE for Test:  0.18035326929036258 \tACC TEST :  0.8196467307096374\n",
      "SVC\n",
      "\tMAE for Train:  0.1270358306188925 \tACC Train :  0.8729641693811075\n",
      "\tMAE for Test:  0.11403780601177564 \tACC TEST :  0.8859621939882244\n",
      "SVC\n",
      "\tMAE for Train:  0.12866449511400652 \tACC Train :  0.8713355048859935\n",
      "\tMAE for Test:  0.11465757669662224 \tACC TEST :  0.8853424233033778\n",
      "SVC\n",
      "\tMAE for Train:  0.1237785016286645 \tACC Train :  0.8762214983713354\n",
      "\tMAE for Test:  0.1096994112178494 \tACC TEST :  0.8903005887821506\n",
      "SVC\n",
      "\tMAE for Train:  0.1254071661237785 \tACC Train :  0.8745928338762216\n",
      "\tMAE for Test:  0.10876975519057949 \tACC TEST :  0.8912302448094205\n",
      "SVC\n",
      "\tMAE for Train:  0.1270358306188925 \tACC Train :  0.8729641693811075\n",
      "\tMAE for Test:  0.10907964053300279 \tACC TEST :  0.8909203594669972\n",
      "SVC\n",
      "\tMAE for Train:  0.1270358306188925 \tACC Train :  0.8729641693811075\n",
      "\tMAE for Test:  0.10876975519057949 \tACC TEST :  0.8912302448094205\n",
      "SVC\n",
      "\tMAE for Train:  0.1270358306188925 \tACC Train :  0.8729641693811075\n",
      "\tMAE for Test:  0.10814998450573288 \tACC TEST :  0.8918500154942671\n",
      "SVC\n",
      "\tMAE for Train:  0.1270358306188925 \tACC Train :  0.8729641693811075\n",
      "\tMAE for Test:  0.10629067245119306 \tACC TEST :  0.8937093275488069\n",
      "SVC\n",
      "\tMAE for Train:  0.1270358306188925 \tACC Train :  0.8729641693811075\n",
      "\tMAE for Test:  0.10629067245119306 \tACC TEST :  0.8937093275488069\n"
     ]
    }
   ],
   "source": [
    "for i in range(10):\n",
    "    score_dataset(X_train, X_valid, Y_train, Y_valid, 'SVC', C=i+0.01)"
   ]
  },
  {
   "cell_type": "code",
   "execution_count": 28,
   "metadata": {},
   "outputs": [
    {
     "name": "stdout",
     "output_type": "stream",
     "text": [
      "RandomForestClassifier\n",
      "\tMAE for Train:  0.09283387622149837 \tACC Train :  0.9071661237785016\n",
      "\tMAE for Test:  0.09637434149364735 \tACC TEST :  0.9036256585063527\n"
     ]
    }
   ],
   "source": [
    "#i find that best model is RandomForestClassifier cs train and test acc is high and in the same time it is not overfitting\n",
    "score_dataset(X_train, X_valid, Y_train, Y_valid, 'RandomForestClassifier',n_est=1000, C=3)"
   ]
  },
  {
   "cell_type": "code",
   "execution_count": 31,
   "metadata": {},
   "outputs": [
    {
     "name": "stdout",
     "output_type": "stream",
     "text": [
      "\tMAE for Train:  0.09283387622149837 \tACC Train :  0.9071661237785016\n",
      "\tMAE for valid:  0.09637434149364735 \tACC valid :  0.9036256585063527\n"
     ]
    }
   ],
   "source": [
    "model = RandomForestClassifier(n_estimators=1000,max_depth=3,  class_weight={0:0.8, 1:0.2},random_state=0)\n",
    "model.fit(X_train, Y_train)\n",
    "\n",
    "preds = model.predict(X_train)\n",
    "print('\\tMAE for Train: ', mean_absolute_error(Y_train, preds), '\\tACC Train : ',accuracy_score(Y_train, preds))\n",
    "\n",
    "preds = model.predict(X_valid)\n",
    "print('\\tMAE for valid: ', mean_absolute_error(Y_valid, preds), '\\tACC valid : ',accuracy_score(Y_valid, preds))"
   ]
  },
  {
   "cell_type": "code",
   "execution_count": 32,
   "metadata": {},
   "outputs": [
    {
     "name": "stdout",
     "output_type": "stream",
     "text": [
      "\tMAE for test:  0.08532778355879292 \tACC test :  0.9146722164412071\n"
     ]
    }
   ],
   "source": [
    "#and we find that for test set the acc is high and this is rare\n",
    "# and that mean our model is good and is genirale \n",
    "#and the same for MAE\n",
    "\n",
    "preds = model.predict(X_test)\n",
    "print('\\tMAE for test: ', mean_absolute_error(Y_test, preds), '\\tACC test : ',accuracy_score(Y_test, preds))"
   ]
  },
  {
   "cell_type": "code",
   "execution_count": 35,
   "metadata": {},
   "outputs": [
    {
     "name": "stdout",
     "output_type": "stream",
     "text": [
      "              precision    recall  f1-score   support\n",
      "\n",
      "           0       0.78      0.86      0.81       210\n",
      "           1       0.96      0.93      0.94       751\n",
      "\n",
      "    accuracy                           0.91       961\n",
      "   macro avg       0.87      0.89      0.88       961\n",
      "weighted avg       0.92      0.91      0.92       961\n",
      "\n"
     ]
    }
   ],
   "source": [
    "from sklearn.metrics import classification_report\n",
    "\n",
    "#cs we have biased data we see class 0 have little low recall and precision but in other hand\n",
    "#for this 0.8 , 0.2 biase data so it is acculay good\n",
    "print(classification_report(Y_test,preds))"
   ]
  },
  {
   "cell_type": "code",
   "execution_count": null,
   "metadata": {},
   "outputs": [],
   "source": []
  }
 ],
 "metadata": {
  "kernelspec": {
   "display_name": "Python 3",
   "language": "python",
   "name": "python3"
  },
  "language_info": {
   "codemirror_mode": {
    "name": "ipython",
    "version": 3
   },
   "file_extension": ".py",
   "mimetype": "text/x-python",
   "name": "python",
   "nbconvert_exporter": "python",
   "pygments_lexer": "ipython3",
   "version": "3.7.4"
  }
 },
 "nbformat": 4,
 "nbformat_minor": 2
}
